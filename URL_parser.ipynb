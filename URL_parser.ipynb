{
 "cells": [
  {
   "cell_type": "code",
   "execution_count": 8,
   "metadata": {},
   "outputs": [],
   "source": [
    "import urllib.parse\n",
    "import pandas as pd\n",
    "import  re"
   ]
  },
  {
   "cell_type": "code",
   "execution_count": 9,
   "metadata": {},
   "outputs": [],
   "source": [
    "url = r\"https://data.niaid.nih.gov/search?q=test%2Bhello&from=1&filters=%28healthCondition.name%3A%28%22healthy%22%29%29+AND+%28infectiousAgent.name%3A%28%22staphylococcus+aureus%22%29%29+AND+%28funding.funder.name%3A%28%22parexel%22%29%29+AND+%28conditionsOfAccess%3A%28%22Closed%22+OR+%22Restricted%22%29%29+AND+%28variableMeasured%3A%28%22maximum+concentration+%28cmax+%29%22%29%29+AND+%28measurementTechnique.name%3A%28%22rna+sequencing%22%29%29+AND+%28species.name%3A%28%22homo+sapiens%22%29%29\""
   ]
  },
  {
   "cell_type": "code",
   "execution_count": 10,
   "metadata": {},
   "outputs": [],
   "source": [
    "decurl = urllib.parse.unquote_plus(url)"
   ]
  },
  {
   "cell_type": "code",
   "execution_count": 11,
   "metadata": {},
   "outputs": [],
   "source": [
    "d = {'query' :[ ], 'healthCondition.name': [ ], 'infectiousAgent.name': [ ],'funding.funder.name':[ ], 'conditionsOfAccess':[ ],'variableMeasured':[ ],'measurementTechnique.name':[ ],'species.name':[ ]}\n",
    "dataframe = pd.DataFrame(data=d )"
   ]
  },
  {
   "cell_type": "code",
   "execution_count": 12,
   "metadata": {},
   "outputs": [
    {
     "name": "stderr",
     "output_type": "stream",
     "text": [
      "C:\\Users\\Mohammad\\AppData\\Local\\Temp\\ipykernel_11276\\950580080.py:1: FutureWarning: The frame.append method is deprecated and will be removed from pandas in a future version. Use pandas.concat instead.\n",
      "  dataframe = dataframe.append({'query' : re.findall(\"search\\?q=.+?&\",decurl)[0][9:-1].split('\"+OR+\"'),\n"
     ]
    }
   ],
   "source": [
    "dataframe = dataframe.append({'query' : re.findall(\"search\\?q=.+?&\",decurl)[0][9:-1].split('\"+OR+\"'),\n",
    "                               'healthCondition.name':  re.findall('healthCondition\\.name:\\(\".+?\"\\)',decurl)[0][23:-2].split('\" OR \"'),\n",
    "                                'infectiousAgent.name': re.findall('infectiousAgent\\.name:\\(\".+?\"\\)',decurl)[0][23:-2].split('\" OR \"') ,\n",
    "                                'funding.funder.name': re.findall('funding\\.funder\\.name:\\(\".+?\"\\)',decurl)[0][22:-2].split('\" OR \"') ,\n",
    "                                'conditionsOfAccess':(re.findall('conditionsOfAccess:\\(\".+?\"\\)',decurl)[0][21:-2]).split('\" OR \"'),\n",
    "                                'variableMeasured':re.findall('variableMeasured:\\(\".+?\"\\)',decurl)[0][19:-2].split('\" OR \"'),\n",
    "                                'measurementTechnique.name':re.findall('measurementTechnique\\.name:\\(\".+?\"\\)',decurl)[0][28:-2].split('\" OR \"'),\n",
    "                                'species.name':re.findall('species\\.name:\\(\".+?\"\\)',decurl)[0][15:-2].split('\" OR \"')},\n",
    "                                 ignore_index=True)"
   ]
  },
  {
   "cell_type": "code",
   "execution_count": 13,
   "metadata": {},
   "outputs": [
    {
     "data": {
      "text/html": [
       "<div>\n",
       "<style scoped>\n",
       "    .dataframe tbody tr th:only-of-type {\n",
       "        vertical-align: middle;\n",
       "    }\n",
       "\n",
       "    .dataframe tbody tr th {\n",
       "        vertical-align: top;\n",
       "    }\n",
       "\n",
       "    .dataframe thead th {\n",
       "        text-align: right;\n",
       "    }\n",
       "</style>\n",
       "<table border=\"1\" class=\"dataframe\">\n",
       "  <thead>\n",
       "    <tr style=\"text-align: right;\">\n",
       "      <th></th>\n",
       "      <th>query</th>\n",
       "      <th>healthCondition.name</th>\n",
       "      <th>infectiousAgent.name</th>\n",
       "      <th>funding.funder.name</th>\n",
       "      <th>conditionsOfAccess</th>\n",
       "      <th>variableMeasured</th>\n",
       "      <th>measurementTechnique.name</th>\n",
       "      <th>species.name</th>\n",
       "    </tr>\n",
       "  </thead>\n",
       "  <tbody>\n",
       "    <tr>\n",
       "      <th>0</th>\n",
       "      <td>[test+hello]</td>\n",
       "      <td>[healthy]</td>\n",
       "      <td>[staphylococcus aureus]</td>\n",
       "      <td>[parexel]</td>\n",
       "      <td>[Closed, Restricted]</td>\n",
       "      <td>[maximum concentration (cmax )]</td>\n",
       "      <td>[rna sequencing]</td>\n",
       "      <td>[homo sapiens]</td>\n",
       "    </tr>\n",
       "  </tbody>\n",
       "</table>\n",
       "</div>"
      ],
      "text/plain": [
       "          query healthCondition.name     infectiousAgent.name  \\\n",
       "0  [test+hello]            [healthy]  [staphylococcus aureus]   \n",
       "\n",
       "  funding.funder.name    conditionsOfAccess                 variableMeasured  \\\n",
       "0           [parexel]  [Closed, Restricted]  [maximum concentration (cmax )]   \n",
       "\n",
       "  measurementTechnique.name    species.name  \n",
       "0          [rna sequencing]  [homo sapiens]  "
      ]
     },
     "metadata": {},
     "output_type": "display_data"
    }
   ],
   "source": [
    "display(dataframe)"
   ]
  }
 ],
 "metadata": {
  "kernelspec": {
   "display_name": "Python 3",
   "language": "python",
   "name": "python3"
  },
  "language_info": {
   "codemirror_mode": {
    "name": "ipython",
    "version": 3
   },
   "file_extension": ".py",
   "mimetype": "text/x-python",
   "name": "python",
   "nbconvert_exporter": "python",
   "pygments_lexer": "ipython3",
   "version": "3.9.2"
  },
  "orig_nbformat": 4
 },
 "nbformat": 4,
 "nbformat_minor": 2
}
